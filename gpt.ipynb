{
 "cells": [
  {
   "cell_type": "code",
   "execution_count": 32,
   "id": "26249061-faab-4d15-b17a-ee11f0c134b1",
   "metadata": {},
   "outputs": [],
   "source": [
    "import torch\n",
    "import torch.nn as nn\n",
    "import torch.optim as optim\n",
    "import gym\n",
    "import numpy as np\n",
    "\n",
    "# define the neural network\n",
    "class PolicyNet(nn.Module):\n",
    "    def __init__(self, input_size, hidden_size, output_size):\n",
    "        super(PolicyNet, self).__init__()\n",
    "        self.fc1 = nn.Linear(input_size, hidden_size)\n",
    "        self.relu = nn.ReLU()\n",
    "        self.fc2 = nn.Linear(hidden_size, output_size)\n",
    "        self.softmax = nn.Softmax(dim=1)\n",
    "    \n",
    "    def forward(self, x):\n",
    "        x = self.fc1(x)\n",
    "        x = self.relu(x)\n",
    "        x = self.fc2(x)\n",
    "        x = self.softmax(x)\n",
    "        return x\n",
    "\n",
    "# define the policy gradient agent\n",
    "class PolicyGradientAgent:\n",
    "    def __init__(self, input_size, hidden_size, output_size, learning_rate):\n",
    "        self.policy_net = PolicyNet(input_size, hidden_size, output_size)\n",
    "        self.optimizer = optim.Adam(self.policy_net.parameters(), lr=learning_rate)\n",
    "    \n",
    "    def get_action(self, state):\n",
    "        state = torch.from_numpy(state).float().unsqueeze(0)\n",
    "        probs = self.policy_net(state)\n",
    "        action_probs = torch.distributions.Categorical(probs)\n",
    "        action = action_probs.sample()\n",
    "        return action.item()\n",
    "    \n",
    "    def update_policy(self, rewards, log_probs):\n",
    "        returns = []\n",
    "        discount_factor = 0.99\n",
    "        for i in range(len(rewards)):\n",
    "            Gt = 0\n",
    "            pw = 0\n",
    "            for r in rewards[i:]:\n",
    "                Gt = Gt + discount_factor**pw * r\n",
    "                pw = pw + 1\n",
    "            returns.append(Gt)\n",
    "        returns = torch.tensor(returns)\n",
    "        returns = (returns - returns.mean()) / (returns.std() + 1e-9)\n",
    "        policy_loss = []\n",
    "        for log_prob, Gt in zip(log_probs, returns):\n",
    "            policy_loss.append(-log_prob * Gt)\n",
    "        self.optimizer.zero_grad()\n",
    "        policy_loss = torch.stack(policy_loss).sum()\n",
    "        policy_loss.backward()\n",
    "        self.optimizer.step()\n",
    "    \n",
    "    def print_prob(self,state):\n",
    "        state = torch.from_numpy(state).float().unsqueeze(0)\n",
    "        probs = self.policy_net(state)\n",
    "        action_probs = torch.distributions.Categorical(probs)\n",
    "        action = action_probs.sample()\n",
    "        print(action.item())"
   ]
  },
  {
   "cell_type": "code",
   "execution_count": 33,
   "id": "2be16811-05c0-4cb5-bce7-be5a36c70cbc",
   "metadata": {},
   "outputs": [],
   "source": [
    "u = 1.1\n",
    "d = 1/u\n",
    "p = 0.5\n",
    "N =  10\n",
    "K = 100 "
   ]
  },
  {
   "cell_type": "code",
   "execution_count": 34,
   "id": "d2c58b1b-8463-4ee0-9468-0854a0cf2860",
   "metadata": {},
   "outputs": [],
   "source": [
    "def Payoff(price):\n",
    "    return max(K-price,0)\n",
    "\n",
    "class Euro_easy:\n",
    "    def __init__(self):\n",
    "        self.reset()\n",
    "\n",
    "    def reset(self):\n",
    "        #self.state = 0\n",
    "        self.state = [100,0,0.0,5]\n",
    "\n",
    "    def step(self,action):\n",
    "        price = self.state[0]\n",
    "        t = self.state[1]\n",
    "        delta = self.state[2]\n",
    "        cash = self.state[3]\n",
    "        price_new = price*u if np.random.rand() < p else price*d\n",
    "        pay_off = Payoff(price_new)\n",
    "        action_new = -1+action/100\n",
    "        delta_new = delta + action_new \n",
    "        if delta_new>1:\n",
    "            delta_new = 1\n",
    "        elif delta_new<-1:\n",
    "            delta_new = -1\n",
    "        cash -= (delta_new-delta)*price\n",
    "        reward = (pay_off-delta_new*price_new-cash)**2\n",
    "        self.state = [price_new,t+1,delta_new,cash]\n",
    "        if t+1<N:\n",
    "            return self.state,-reward,False,\n",
    "        else:\n",
    "            return self.state,-reward,True"
   ]
  },
  {
   "cell_type": "code",
   "execution_count": 35,
   "id": "59ee5833-2208-4aff-8f82-60f09ff4159e",
   "metadata": {},
   "outputs": [],
   "source": [
    "env = Euro_easy()\n",
    "input_size = np.shape(env.state)[0]\n",
    "output_size = 200"
   ]
  },
  {
   "cell_type": "code",
   "execution_count": 36,
   "id": "4d6e519d-ae67-4a86-bc8c-4686e8de338b",
   "metadata": {},
   "outputs": [
    {
     "name": "stdout",
     "output_type": "stream",
     "text": [
      "Episode 0: -10119.508456371945\n",
      "Episode 1000: -40.0\n",
      "Episode 2000: -40.0\n",
      "Episode 3000: -100.00000000000011\n",
      "Episode 4000: -4768.668100000017\n",
      "Episode 5000: -26781.511953744186\n",
      "Episode 6000: -622.9000000000016\n",
      "Episode 7000: -3948.432100000019\n",
      "Episode 8000: -40.0\n",
      "Episode 9000: -100.00000000000006\n"
     ]
    }
   ],
   "source": [
    "agent = PolicyGradientAgent(input_size, 128, output_size, 0.001)\n",
    "\n",
    "# train the agent\n",
    "total_reward = []\n",
    "average_reward = []\n",
    "for episode in range(10000):\n",
    "    env.reset()\n",
    "    state = np.array(env.state)\n",
    "    done = False\n",
    "    rewards = []\n",
    "    log_probs = []\n",
    "    while not done:\n",
    "        action = agent.get_action(state)\n",
    "        next_state, reward, done = env.step(action)\n",
    "        rewards.append(reward)\n",
    "        log_probs.append(torch.log(agent.policy_net(torch.from_numpy(state).float().unsqueeze(0))[0][action]))\n",
    "        state = np.array(next_state)\n",
    "    agent.update_policy(rewards, log_probs)\n",
    "    total_reward.append(sum(rewards))\n",
    "    \n",
    "    if episode < 100:\n",
    "        avg_list = total_reward[:episode+1]\n",
    "    else:\n",
    "        avg_list = total_reward[episode-99:episode+1]\n",
    "    average_reward.append(np.average(avg_list))\n",
    "    if episode % 1000 == 0:\n",
    "        print(\"Episode {}: {}\".format(episode, sum(rewards)))"
   ]
  },
  {
   "cell_type": "code",
   "execution_count": 37,
   "id": "a78c25b7-3dde-4631-a3e3-d7fa8f67ba95",
   "metadata": {},
   "outputs": [
    {
     "data": {
      "text/plain": [
       "[<matplotlib.lines.Line2D at 0x29657ce3ac0>]"
      ]
     },
     "execution_count": 37,
     "metadata": {},
     "output_type": "execute_result"
    },
    {
     "data": {
      "image/png": "[encoded data removed]",
      "text/plain": [
       "<Figure size 640x480 with 1 Axes>"
      ]
     },
     "metadata": {},
     "output_type": "display_data"
    }
   ],
   "source": [
    "import matplotlib.pyplot as plt\n",
    "plt.plot(total_reward)\n",
    "plt.plot(average_reward)"
   ]
  },
  {
   "cell_type": "code",
   "execution_count": null,
   "id": "daaf9038-05c9-4410-a95f-deea2a393705",
   "metadata": {},
   "outputs": [],
   "source": []
  }
 ],
 "metadata": {
  "kernelspec": {
   "display_name": "Python 3 (ipykernel)",
   "language": "python",
   "name": "python3"
  },
  "language_info": {
   "codemirror_mode": {
    "name": "ipython",
    "version": 3
   },
   "file_extension": ".py",
   "mimetype": "text/x-python",
   "name": "python",
   "nbconvert_exporter": "python",
   "pygments_lexer": "ipython3",
   "version": "3.9.13"
  }
 },
 "nbformat": 4,
 "nbformat_minor": 5
}
