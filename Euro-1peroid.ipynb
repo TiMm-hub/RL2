{
 "cells": [
  {
   "cell_type": "code",
   "execution_count": 1,
   "id": "4fd47805-2a42-4550-9c33-f6b4161a9e88",
   "metadata": {
    "tags": []
   },
   "outputs": [],
   "source": [
    "import numpy as np\n",
    "import math\n",
    "from tqdm.notebook import tnrange\n",
    "# Define the parameters of the problem\n",
    "S0 = 100   # initial stock price\n",
    "K = 105    # strike price\n",
    "r = 0.005   # risk-free interest rate\n",
    "T = 1      # time to expiration\n",
    "sigma = 0.3   # volatility\n",
    "N = 10    # number of time steps\n",
    "\n",
    "# Calculation of parameters\n",
    "dt = 0.003\n",
    "u = np.exp(sigma * np.sqrt(dt))\n",
    "d = 1 / u\n",
    "p = (np.exp(r * dt) - d) / (u - d)\n",
    "q = 1-p\n",
    "# Define the state and action spaces\n",
    "stock_price = np.zeros((N + 1, N + 1))\n",
    "stock_price[0, 0] = S0\n",
    "\n",
    "for i in range(1, N + 1):\n",
    "    stock_price[i, 0] = stock_price[i-1, 0] * u\n",
    "    for j in range(1, i + 1):\n",
    "        stock_price[i, j] = stock_price[i-1, j-1] * d\n",
    "\n",
    "actions = np.linspace(-1,0,1001)  # hold or buy stock\n",
    "actions_1 = np.linspace(0,K,1001)\n"
   ]
  },
  {
   "cell_type": "code",
   "execution_count": 2,
   "id": "ecdeee1b-a156-4c5f-82ee-725f6b51dfa7",
   "metadata": {},
   "outputs": [],
   "source": [
    "states = []\n",
    "for i in range(len(stock_price)):\n",
    "    for j in range(len(stock_price[0])):\n",
    "        if stock_price[i][j] !=0:\n",
    "            states.append([stock_price[i][j],i])\n",
    "states = np.array(states)"
   ]
  },
  {
   "cell_type": "code",
   "execution_count": 3,
   "id": "994d7e32-71d9-4d7b-a33a-e25f071b2869",
   "metadata": {
    "tags": []
   },
   "outputs": [
    {
     "data": {
      "text/plain": [
       "array([[100.        ,   0.        ],\n",
       "       [101.65674192,   1.        ],\n",
       "       [ 98.37025869,   1.        ],\n",
       "       [103.34093178,   2.        ],\n",
       "       [100.        ,   2.        ],\n",
       "       [ 96.76707794,   2.        ],\n",
       "       [105.05302431,   3.        ],\n",
       "       [101.65674192,   3.        ],\n",
       "       [ 98.37025869,   3.        ],\n",
       "       [ 95.1900249 ,   3.        ],\n",
       "       [106.79348181,   4.        ],\n",
       "       [103.34093178,   4.        ],\n",
       "       [100.        ,   4.        ],\n",
       "       [ 96.76707794,   4.        ],\n",
       "       [ 93.63867374,   4.        ],\n",
       "       [108.56277419,   5.        ],\n",
       "       [105.05302431,   5.        ],\n",
       "       [101.65674192,   5.        ],\n",
       "       [ 98.37025869,   5.        ],\n",
       "       [ 95.1900249 ,   5.        ],\n",
       "       [ 92.11260559,   5.        ],\n",
       "       [110.36137918,   6.        ],\n",
       "       [106.79348181,   6.        ],\n",
       "       [103.34093178,   6.        ],\n",
       "       [100.        ,   6.        ],\n",
       "       [ 96.76707794,   6.        ],\n",
       "       [ 93.63867374,   6.        ],\n",
       "       [ 90.6114084 ,   6.        ],\n",
       "       [112.18978241,   7.        ],\n",
       "       [108.56277419,   7.        ],\n",
       "       [105.05302431,   7.        ],\n",
       "       [101.65674192,   7.        ],\n",
       "       [ 98.37025869,   7.        ],\n",
       "       [ 95.1900249 ,   7.        ],\n",
       "       [ 92.11260559,   7.        ],\n",
       "       [ 89.13467684,   7.        ],\n",
       "       [114.04847756,   8.        ],\n",
       "       [110.36137918,   8.        ],\n",
       "       [106.79348181,   8.        ],\n",
       "       [103.34093178,   8.        ],\n",
       "       [100.        ,   8.        ],\n",
       "       [ 96.76707794,   8.        ],\n",
       "       [ 93.63867374,   8.        ],\n",
       "       [ 90.6114084 ,   8.        ],\n",
       "       [ 87.68201219,   8.        ],\n",
       "       [115.9379665 ,   9.        ],\n",
       "       [112.18978241,   9.        ],\n",
       "       [108.56277419,   9.        ],\n",
       "       [105.05302431,   9.        ],\n",
       "       [101.65674192,   9.        ],\n",
       "       [ 98.37025869,   9.        ],\n",
       "       [ 95.1900249 ,   9.        ],\n",
       "       [ 92.11260559,   9.        ],\n",
       "       [ 89.13467684,   9.        ],\n",
       "       [ 86.25302221,   9.        ],\n",
       "       [117.85875939,  10.        ],\n",
       "       [114.04847756,  10.        ],\n",
       "       [110.36137918,  10.        ],\n",
       "       [106.79348181,  10.        ],\n",
       "       [103.34093178,  10.        ],\n",
       "       [100.        ,  10.        ],\n",
       "       [ 96.76707794,  10.        ],\n",
       "       [ 93.63867374,  10.        ],\n",
       "       [ 90.6114084 ,  10.        ],\n",
       "       [ 87.68201219,  10.        ],\n",
       "       [ 84.84732108,  10.        ]])"
      ]
     },
     "execution_count": 3,
     "metadata": {},
     "output_type": "execute_result"
    }
   ],
   "source": [
    "states"
   ]
  },
  {
   "cell_type": "code",
   "execution_count": 4,
   "id": "15f06a26-11e1-4da5-b990-7f916aca2c07",
   "metadata": {},
   "outputs": [],
   "source": [
    "def Payoff(s):\n",
    "    \"\"\"Compute the payoff for being in state s at the terminal time\"\"\"\n",
    "    return max(K-s, 0) \n",
    "def transition(s,t, a):\n",
    "    \"\"\"Compute the next state and reward for taking action a in state s\"\"\"\n",
    "    s_u = s * u\n",
    "    s_d = s * d\n",
    "    Payoff_u = Payoff(s_u)\n",
    "    r_u = (Payoff_u-a[0]*s_u-a[1])**2\n",
    "    Payoff_d = Payoff(s_d)\n",
    "    r_d = (Payoff_d-a[0]*s_d-a[1])**2\n",
    "    return [(s_u,t+1,r_u, p), (s_d,t+1,r_d, q)]"
   ]
  },
  {
   "cell_type": "code",
   "execution_count": 5,
   "id": "4a23c081-fbbc-4c2d-9909-2147d23afa97",
   "metadata": {},
   "outputs": [],
   "source": [
    "V_new = np.zeros(len(states))\n",
    "pi_new = []\n",
    "for i, s in enumerate(states):\n",
    "    Q = np.zeros((len(actions), len(actions_1)))\n",
    "    for j, a in enumerate(actions):\n",
    "            for k,b in enumerate(actions_1):\n",
    "                next_states = transition(s[0],s[1],[a,b])\n",
    "                if s[1]<N:\n",
    "                    Q[j][k] = sum([p_next * (reward_next) for s_next,t_next,reward_next, p_next in next_states])\n",
    "                else :\n",
    "                    pass \n",
    "    V_new[i] = np.min(Q)\n",
    "    optimal_action = np.unravel_index(Q.argmin(), Q.shape)\n",
    "    pi_new.append(optimal_action)\n",
    "V = V_new"
   ]
  },
  {
   "cell_type": "code",
   "execution_count": 6,
   "id": "2e7fdb05-852b-4721-8e02-e74b99188fca",
   "metadata": {},
   "outputs": [
    {
     "data": {
      "text/plain": [
       "[(0, 1000),\n",
       " (0, 1000),\n",
       " (0, 1000),\n",
       " (0, 1000),\n",
       " (0, 1000),\n",
       " (0, 1000),\n",
       " (520, 488),\n",
       " (0, 1000),\n",
       " (0, 1000),\n",
       " (0, 1000),\n",
       " (1000, 0),\n",
       " (0, 1000),\n",
       " (0, 1000),\n",
       " (0, 1000),\n",
       " (0, 1000),\n",
       " (1000, 0),\n",
       " (520, 488),\n",
       " (0, 1000),\n",
       " (0, 1000),\n",
       " (0, 1000),\n",
       " (0, 1000),\n",
       " (1000, 0),\n",
       " (1000, 0),\n",
       " (0, 1000),\n",
       " (0, 1000),\n",
       " (0, 1000),\n",
       " (0, 1000),\n",
       " (0, 1000),\n",
       " (1000, 0),\n",
       " (1000, 0),\n",
       " (520, 488),\n",
       " (0, 1000),\n",
       " (0, 1000),\n",
       " (0, 1000),\n",
       " (0, 1000),\n",
       " (0, 1000),\n",
       " (1000, 0),\n",
       " (1000, 0),\n",
       " (1000, 0),\n",
       " (0, 1000),\n",
       " (0, 1000),\n",
       " (0, 1000),\n",
       " (0, 1000),\n",
       " (0, 1000),\n",
       " (0, 1000),\n",
       " (1000, 0),\n",
       " (1000, 0),\n",
       " (1000, 0),\n",
       " (520, 488),\n",
       " (0, 1000),\n",
       " (0, 1000),\n",
       " (0, 1000),\n",
       " (0, 1000),\n",
       " (0, 1000),\n",
       " (0, 1000),\n",
       " (0, 0),\n",
       " (0, 0),\n",
       " (0, 0),\n",
       " (0, 0),\n",
       " (0, 0),\n",
       " (0, 0),\n",
       " (0, 0),\n",
       " (0, 0),\n",
       " (0, 0),\n",
       " (0, 0),\n",
       " (0, 0)]"
      ]
     },
     "execution_count": 6,
     "metadata": {},
     "output_type": "execute_result"
    }
   ],
   "source": [
    "pi_new"
   ]
  },
  {
   "cell_type": "code",
   "execution_count": 7,
   "id": "ec8ad72c-3299-48ee-a208-5fc35e8a2977",
   "metadata": {},
   "outputs": [
    {
     "name": "stdout",
     "output_type": "stream",
     "text": [
      "CPU times: total: 41.2 s\n",
      "Wall time: 4min 11s\n"
     ]
    }
   ],
   "source": [
    "%%time\n",
    "V = np.zeros(len(states))\n",
    "pi = np.zeros(len(states), dtype=int) \n",
    "for t in range(T - 1, -1, -1):  # iterate backwards in time\\\n",
    "    V_new = np.zeros(len(states))\n",
    "    pi_new = []\n",
    "    for i, s in enumerate(states):\n",
    "        Q = np.zeros((len(actions), len(actions_1)))\n",
    "        for j, a in enumerate(actions):\n",
    "                for k,b in enumerate(actions_1):\n",
    "                    next_states = transition(s[0],s[1],[a,b])\n",
    "                    if s[1]<N:\n",
    "                        Q[j][k] = sum([p_next * (reward_next) for s_next,t_next,reward_next, p_next in next_states])\n",
    "                    else :\n",
    "                        pass \n",
    "        V_new[i] = np.min(Q)\n",
    "        optimal_action = np.unravel_index(Q.argmin(), Q.shape)\n",
    "        pi_new.append(optimal_action)\n",
    "    V = V_new\n",
    "    pi = np.array(pi_new)"
   ]
  },
  {
   "cell_type": "code",
   "execution_count": 8,
   "id": "de340e93-fb6f-4447-acf3-3ec087210568",
   "metadata": {
    "tags": []
   },
   "outputs": [
    {
     "data": {
      "text/plain": [
       "array([[   0, 1000],\n",
       "       [   0, 1000],\n",
       "       [   0, 1000],\n",
       "       [   0, 1000],\n",
       "       [   0, 1000],\n",
       "       [   0, 1000],\n",
       "       [ 520,  488],\n",
       "       [   0, 1000],\n",
       "       [   0, 1000],\n",
       "       [   0, 1000],\n",
       "       [1000,    0],\n",
       "       [   0, 1000],\n",
       "       [   0, 1000],\n",
       "       [   0, 1000],\n",
       "       [   0, 1000],\n",
       "       [1000,    0],\n",
       "       [ 520,  488],\n",
       "       [   0, 1000],\n",
       "       [   0, 1000],\n",
       "       [   0, 1000],\n",
       "       [   0, 1000],\n",
       "       [1000,    0],\n",
       "       [1000,    0],\n",
       "       [   0, 1000],\n",
       "       [   0, 1000],\n",
       "       [   0, 1000],\n",
       "       [   0, 1000],\n",
       "       [   0, 1000],\n",
       "       [1000,    0],\n",
       "       [1000,    0],\n",
       "       [ 520,  488],\n",
       "       [   0, 1000],\n",
       "       [   0, 1000],\n",
       "       [   0, 1000],\n",
       "       [   0, 1000],\n",
       "       [   0, 1000],\n",
       "       [1000,    0],\n",
       "       [1000,    0],\n",
       "       [1000,    0],\n",
       "       [   0, 1000],\n",
       "       [   0, 1000],\n",
       "       [   0, 1000],\n",
       "       [   0, 1000],\n",
       "       [   0, 1000],\n",
       "       [   0, 1000],\n",
       "       [1000,    0],\n",
       "       [1000,    0],\n",
       "       [1000,    0],\n",
       "       [ 520,  488],\n",
       "       [   0, 1000],\n",
       "       [   0, 1000],\n",
       "       [   0, 1000],\n",
       "       [   0, 1000],\n",
       "       [   0, 1000],\n",
       "       [   0, 1000],\n",
       "       [   0,    0],\n",
       "       [   0,    0],\n",
       "       [   0,    0],\n",
       "       [   0,    0],\n",
       "       [   0,    0],\n",
       "       [   0,    0],\n",
       "       [   0,    0],\n",
       "       [   0,    0],\n",
       "       [   0,    0],\n",
       "       [   0,    0],\n",
       "       [   0,    0]], dtype=int64)"
      ]
     },
     "execution_count": 8,
     "metadata": {},
     "output_type": "execute_result"
    }
   ],
   "source": [
    "pi"
   ]
  },
  {
   "cell_type": "code",
   "execution_count": 9,
   "id": "16d825a5-ff82-48e5-82c6-78988b9643e3",
   "metadata": {},
   "outputs": [
    {
     "data": {
      "text/plain": [
       "array([0.        , 0.        , 0.        , 0.00139552, 0.        ,\n",
       "       0.        , 0.00047609, 0.        , 0.        , 0.        ,\n",
       "       0.        , 0.00139552, 0.        , 0.        , 0.        ,\n",
       "       0.        , 0.00047609, 0.        , 0.        , 0.        ,\n",
       "       0.        , 0.        , 0.        , 0.00139552, 0.        ,\n",
       "       0.        , 0.        , 0.        , 0.        , 0.        ,\n",
       "       0.00047609, 0.        , 0.        , 0.        , 0.        ,\n",
       "       0.        , 0.        , 0.        , 0.        , 0.00139552,\n",
       "       0.        , 0.        , 0.        , 0.        , 0.        ,\n",
       "       0.        , 0.        , 0.        , 0.00047609, 0.        ,\n",
       "       0.        , 0.        , 0.        , 0.        , 0.        ,\n",
       "       0.        , 0.        , 0.        , 0.        , 0.        ,\n",
       "       0.        , 0.        , 0.        , 0.        , 0.        ,\n",
       "       0.        ])"
      ]
     },
     "execution_count": 9,
     "metadata": {},
     "output_type": "execute_result"
    }
   ],
   "source": [
    "V"
   ]
  },
  {
   "cell_type": "code",
   "execution_count": 10,
   "id": "9ded5f31-f34e-4e34-ad7d-3654038f3057",
   "metadata": {},
   "outputs": [],
   "source": [
    "pay_off = np.array([])\n",
    "delta = np.array([]) \n",
    "cash = np.array([])\n",
    "for i,s in enumerate(states):\n",
    "    if s[1]<N:\n",
    "        delta = np.append(delta,actions[pi[i][0]])\n",
    "        pay_off = np.append(pay_off,max(K-s[0],0))\n",
    "        cash = np.append(cash,actions_1[pi[i][1]])"
   ]
  },
  {
   "cell_type": "code",
   "execution_count": 11,
   "id": "659b0546-ed4c-4760-a8b3-6c0c98164d4f",
   "metadata": {},
   "outputs": [
    {
     "data": {
      "text/plain": [
       "array([-1.  , -1.  , -1.  , -1.  , -1.  , -1.  , -0.48, -1.  , -1.  ,\n",
       "       -1.  ,  0.  , -1.  , -1.  , -1.  , -1.  ,  0.  , -0.48, -1.  ,\n",
       "       -1.  , -1.  , -1.  ,  0.  ,  0.  , -1.  , -1.  , -1.  , -1.  ,\n",
       "       -1.  ,  0.  ,  0.  , -0.48, -1.  , -1.  , -1.  , -1.  , -1.  ,\n",
       "        0.  ,  0.  ,  0.  , -1.  , -1.  , -1.  , -1.  , -1.  , -1.  ,\n",
       "        0.  ,  0.  ,  0.  , -0.48, -1.  , -1.  , -1.  , -1.  , -1.  ,\n",
       "       -1.  ])"
      ]
     },
     "execution_count": 11,
     "metadata": {},
     "output_type": "execute_result"
    }
   ],
   "source": [
    "delta"
   ]
  },
  {
   "cell_type": "code",
   "execution_count": 12,
   "id": "daa02d41-fbdd-4764-b000-32c70c2254b9",
   "metadata": {},
   "outputs": [
    {
     "name": "stdout",
     "output_type": "stream",
     "text": [
      "Optimal hedging portfolio (buy stock, hold cash):\n",
      "S = 100.00000: (-1.00, 105.00)\n",
      "S = 101.65674: (-1.00, 105.00)\n",
      "S = 98.37026: (-1.00, 105.00)\n",
      "S = 103.34093: (-1.00, 105.00)\n",
      "S = 100.00000: (-1.00, 105.00)\n",
      "S = 96.76708: (-1.00, 105.00)\n",
      "S = 105.05302: (-0.48, 51.24)\n",
      "S = 101.65674: (-1.00, 105.00)\n",
      "S = 98.37026: (-1.00, 105.00)\n",
      "S = 95.19002: (-1.00, 105.00)\n",
      "S = 106.79348: (0.00, 0.00)\n",
      "S = 103.34093: (-1.00, 105.00)\n",
      "S = 100.00000: (-1.00, 105.00)\n",
      "S = 96.76708: (-1.00, 105.00)\n",
      "S = 93.63867: (-1.00, 105.00)\n",
      "S = 108.56277: (0.00, 0.00)\n",
      "S = 105.05302: (-0.48, 51.24)\n",
      "S = 101.65674: (-1.00, 105.00)\n",
      "S = 98.37026: (-1.00, 105.00)\n",
      "S = 95.19002: (-1.00, 105.00)\n",
      "S = 92.11261: (-1.00, 105.00)\n",
      "S = 110.36138: (0.00, 0.00)\n",
      "S = 106.79348: (0.00, 0.00)\n",
      "S = 103.34093: (-1.00, 105.00)\n",
      "S = 100.00000: (-1.00, 105.00)\n",
      "S = 96.76708: (-1.00, 105.00)\n",
      "S = 93.63867: (-1.00, 105.00)\n",
      "S = 90.61141: (-1.00, 105.00)\n",
      "S = 112.18978: (0.00, 0.00)\n",
      "S = 108.56277: (0.00, 0.00)\n",
      "S = 105.05302: (-0.48, 51.24)\n",
      "S = 101.65674: (-1.00, 105.00)\n",
      "S = 98.37026: (-1.00, 105.00)\n",
      "S = 95.19002: (-1.00, 105.00)\n",
      "S = 92.11261: (-1.00, 105.00)\n",
      "S = 89.13468: (-1.00, 105.00)\n",
      "S = 114.04848: (0.00, 0.00)\n",
      "S = 110.36138: (0.00, 0.00)\n",
      "S = 106.79348: (0.00, 0.00)\n",
      "S = 103.34093: (-1.00, 105.00)\n",
      "S = 100.00000: (-1.00, 105.00)\n",
      "S = 96.76708: (-1.00, 105.00)\n",
      "S = 93.63867: (-1.00, 105.00)\n",
      "S = 90.61141: (-1.00, 105.00)\n",
      "S = 87.68201: (-1.00, 105.00)\n",
      "S = 115.93797: (0.00, 0.00)\n",
      "S = 112.18978: (0.00, 0.00)\n",
      "S = 108.56277: (0.00, 0.00)\n",
      "S = 105.05302: (-0.48, 51.24)\n",
      "S = 101.65674: (-1.00, 105.00)\n",
      "S = 98.37026: (-1.00, 105.00)\n",
      "S = 95.19002: (-1.00, 105.00)\n",
      "S = 92.11261: (-1.00, 105.00)\n",
      "S = 89.13468: (-1.00, 105.00)\n",
      "S = 86.25302: (-1.00, 105.00)\n"
     ]
    }
   ],
   "source": [
    "X = delta \n",
    "Y = cash\n",
    "# Print the results\n",
    "print(\"Optimal hedging portfolio (buy stock, hold cash):\")\n",
    "for s, x, y in zip(states, X, Y):\n",
    "    print(\"S = %.5f: (%.2f, %.2f)\" % (s[0], x, y))\n"
   ]
  }
 ],
 "metadata": {
  "kernelspec": {
   "display_name": "Python 3 (ipykernel)",
   "language": "python",
   "name": "python3"
  },
  "language_info": {
   "codemirror_mode": {
    "name": "ipython",
    "version": 3
   },
   "file_extension": ".py",
   "mimetype": "text/x-python",
   "name": "python",
   "nbconvert_exporter": "python",
   "pygments_lexer": "ipython3",
   "version": "3.9.13"
  }
 },
 "nbformat": 4,
 "nbformat_minor": 5
}
