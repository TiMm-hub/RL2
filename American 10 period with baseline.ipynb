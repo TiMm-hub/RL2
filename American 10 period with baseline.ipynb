{
 "cells": [
  {
   "cell_type": "code",
   "execution_count": 1,
   "id": "26249061-faab-4d15-b17a-ee11f0c134b1",
   "metadata": {},
   "outputs": [],
   "source": [
    "import torch\n",
    "import torch.nn as nn\n",
    "import torch.optim as optim\n",
    "import numpy as np\n",
    "import math\n",
    "\n",
    "# define the neural network\n",
    "class PolicyNet(nn.Sequential):\n",
    "    def __init__(self, input_size, hidden_size, output_size):\n",
    "        super(PolicyNet, self).__init__()\n",
    "        self.fc1 = nn.Linear(input_size, hidden_size)\n",
    "        self.relu = nn.ReLU()\n",
    "        self.fc2 = nn.Linear(hidden_size, output_size)\n",
    "        self.softmax = nn.Softmax(dim=1)\n",
    "    \n",
    "    def forward(self, x):\n",
    "        x = self.fc1(x)\n",
    "        x = self.relu(x)\n",
    "        x = self.fc2(x)\n",
    "        x = self.softmax(x)\n",
    "        return x\n",
    "\n",
    "    \n",
    "    \n",
    "# define the policy gradient agent\n",
    "class PolicyGradientAgentWithBaseline:\n",
    "    def __init__(self, input_size, hidden_size, output_size, learning_rate):\n",
    "        self.policy_net = PolicyNet(input_size, hidden_size, output_size)\n",
    "        self.baseline_net =  BaselineNet(input_size, hidden_size, output_size=1)\n",
    "        self.optimizer = optim.Adam(self.policy_net.parameters(), lr=learning_rate)\n",
    "        self.optimizer2 = optim.Adam(self.baseline_net.parameters(), lr=learning_rate)\n",
    "        self.loss = nn.MSELoss()\n",
    "    \n",
    "    def get_advantage(self, returns, observations):\n",
    "        values = self.baseline_net.forward(observations).detach().numpy()\n",
    "        advantages = returns - values\n",
    "        advantages = (advantages-torch.mean(advantages)) / np.sqrt(torch.sum(advantages**2))\n",
    "        return advantages\n",
    "    \n",
    "    def get_action(self, state):\n",
    "        state = torch.from_numpy(state).float().unsqueeze(0)\n",
    "        probs = self.policy_net(state)\n",
    "        action_probs = torch.distributions.Categorical(probs)\n",
    "        action = action_probs.sample()\n",
    "        return action.item()\n",
    "    \n",
    "    def update_policy(self, rewards, log_probs, observations):\n",
    "        returns = []\n",
    "        discount_factor = 0.99\n",
    "        for i in range(len(rewards)):\n",
    "            Gt = 0\n",
    "            pw = 0\n",
    "            for r in rewards[i:]:\n",
    "                Gt = Gt + discount_factor**pw * r\n",
    "                pw = pw + 1\n",
    "            returns.append(Gt)\n",
    "        returns = torch.tensor(returns)\n",
    "        returns = (returns - returns.mean()) / (returns.std() + 1e-9)\n",
    "        observations =  torch.tensor(observations,dtype = torch.float32)\n",
    "        advantages = self.get_advantage(returns, observations)\n",
    "        # update baseline\n",
    "        values = self.baseline_net.forward(observations)\n",
    "        loss = self.loss(values.float(),torch.unsqueeze(returns, 1).float())\n",
    "        self.optimizer2.zero_grad()\n",
    "        loss.backward()\n",
    "        self.optimizer2.step()\n",
    "        \n",
    "        policy_loss = []\n",
    "        for log_prob, Gt,at in zip(log_probs, returns,advantages):\n",
    "            policy_loss.append(-log_prob * Gt*at)\n",
    "        self.optimizer.zero_grad()\n",
    "        policy_loss = torch.stack(policy_loss).sum()\n",
    "        policy_loss.backward()\n",
    "        self.optimizer.step()\n",
    "    \n",
    "    def print_prob(self,state):\n",
    "        state = torch.from_numpy(state).float().unsqueeze(0)\n",
    "        probs = self.policy_net(state)\n",
    "        action_probs = torch.distributions.Categorical(probs)\n",
    "        action = action_probs.sample()\n",
    "        print(action.item())"
   ]
  },
  {
   "cell_type": "code",
   "execution_count": 2,
   "id": "dfa81083-2154-4ce1-b11a-590adcc660b8",
   "metadata": {},
   "outputs": [],
   "source": [
    "class BaselineNet(nn.Sequential):\n",
    "    def __init__(self, input_size=5, hidden_size=128, output_size=1):\n",
    "        super(BaselineNet, self).__init__()\n",
    "        self.fc1 = nn.Linear(input_size, hidden_size)\n",
    "        self.relu = nn.ReLU()\n",
    "        self.fc2 = nn.Linear(hidden_size, output_size)\n",
    "        \n",
    "    def forward(self, x): \n",
    "        x = self.fc1(x)\n",
    "        x = self.relu(x)\n",
    "        x = self.fc2(x)\n",
    "        return x"
   ]
  },
  {
   "cell_type": "code",
   "execution_count": 3,
   "id": "28d3768a-0d12-4c28-9e95-96a17082fd14",
   "metadata": {},
   "outputs": [],
   "source": [
    "def Payoff(price):\n",
    "    return max(K-price,0)"
   ]
  },
  {
   "cell_type": "code",
   "execution_count": 10,
   "id": "2be16811-05c0-4cb5-bce7-be5a36c70cbc",
   "metadata": {},
   "outputs": [],
   "source": [
    "u = 1.1\n",
    "d = 1/u\n",
    "p = 0.5\n",
    "q = 1-p\n",
    "N =  10\n",
    "K = 100 \n",
    "S0 = 100\n",
    "r = 0.03\n",
    "dt = 1/252\n",
    "\n",
    "stock_price = np.zeros((N + 1, N + 1))\n",
    "stock_price[0, 0] = S0\n",
    "\n",
    "for i in range(1, N + 1):\n",
    "    stock_price[i, 0] = stock_price[i-1, 0] * u\n",
    "    for j in range(1, i + 1):\n",
    "        stock_price[i, j] = stock_price[i-1, j-1] * d\n",
    "        \n",
    "states = []\n",
    "Payoff_terminal = []\n",
    "for i in range(len(stock_price)):\n",
    "    for j in range(len(stock_price[0])):\n",
    "        if stock_price[i][j] !=0:\n",
    "            states.append([j,i])\n",
    "        if i == N:\n",
    "            Payoff_terminal.append(Payoff(stock_price[i][j]))\n",
    "states = np.array(states)\n",
    "        \n",
    "Optimal_val = np.zeros(len(states))\n",
    "Optimal_val[-(N+1):] = Payoff_terminal \n",
    "Optimal = {}\n",
    "early_exercise = {}\n",
    "for i in range(len(states)):\n",
    "    Optimal[str(states[i].tolist())] = Optimal_val[i]\n",
    "    early_exercise[str(states[i].tolist())] = 0"
   ]
  },
  {
   "cell_type": "code",
   "execution_count": 13,
   "id": "cc43bbac-92e1-4d1b-ad6d-081e96f5af9a",
   "metadata": {},
   "outputs": [],
   "source": [
    "for i, s in enumerate(np.flip(states)):\n",
    "    if s[0]<N:      \n",
    "        Optimal[str([s[1],s[0]])] = max(Payoff(stock_price[s[0]][s[1]]),(p*Optimal[str([s[1],s[0]+1])]+q*Optimal[str([s[1]+1,s[0]+1])])\\\n",
    "                                                    *np.exp(-dt*r))\n",
    "        if Payoff(stock_price[s[0]][s[1]])==  Optimal[str([s[1],s[0]])]:\n",
    "            early_exercise[str([s[1],s[0]])] = 1"
   ]
  },
  {
   "cell_type": "code",
   "execution_count": 21,
   "id": "d2c58b1b-8463-4ee0-9468-0854a0cf2860",
   "metadata": {},
   "outputs": [],
   "source": [
    "class American_easy:\n",
    "    def __init__(self):\n",
    "        self.reset()\n",
    "\n",
    "    def reset(self):\n",
    "        #self.state = 0\n",
    "        self.state = [100,0,0.0,5,0]\n",
    "\n",
    "    def step(self,action):\n",
    "        price = self.state[0]\n",
    "        t = self.state[1]\n",
    "        delta = self.state[2]\n",
    "        cash = self.state[3]\n",
    "        out_bound = self.state[4]\n",
    "        price_new = price*u if np.random.rand() < p else price*d\n",
    "        num_of_d = int(-round(math.log((price_new / S0),u)) /2 +(t+1)/2)\n",
    "        pay_off = Optimal[str([num_of_d,t+1])] \n",
    "        action_new = -1+action/100 # from categorical action to real action\n",
    "        delta_new = delta + action_new \n",
    "        if delta_new>1:\n",
    "            delta_new = 1\n",
    "            out_bound = 1\n",
    "        elif delta_new<-1:\n",
    "            delta_new = -1\n",
    "            out_bound = 1\n",
    "        cash -= (delta_new-delta)*price\n",
    "        cash *= np.exp(dt*r)\n",
    "        reward = (pay_off-delta_new*price_new-cash)**2\n",
    "        self.state = [price_new,t+1,delta_new,cash,out_bound]\n",
    "        if t+1<N:\n",
    "            if early_exercise[str([num_of_d,t+1])] == 1:\n",
    "                return self.state,-reward,True\n",
    "            else:\n",
    "                return self.state,-reward,False\n",
    "        else:\n",
    "            return self.state,-reward,True"
   ]
  },
  {
   "cell_type": "code",
   "execution_count": 22,
   "id": "59ee5833-2208-4aff-8f82-60f09ff4159e",
   "metadata": {},
   "outputs": [],
   "source": [
    "env = American_easy()\n",
    "input_size = np.shape(env.state)[0]\n",
    "output_size = 200"
   ]
  },
  {
   "cell_type": "code",
   "execution_count": 23,
   "id": "4d6e519d-ae67-4a86-bc8c-4686e8de338b",
   "metadata": {},
   "outputs": [
    {
     "name": "stderr",
     "output_type": "stream",
     "text": [
      "C:\\Users\\TIM\\AppData\\Local\\Temp\\ipykernel_28028\\862004038.py:59: UserWarning: Creating a tensor from a list of numpy.ndarrays is extremely slow. Please consider converting the list to a single numpy.ndarray with numpy.array() before converting to a tensor. (Triggered internally at C:\\actions-runner\\_work\\pytorch\\pytorch\\builder\\windows\\pytorch\\torch\\csrc\\utils\\tensor_new.cpp:233.)\n",
      "  observations =  torch.tensor(observations,dtype = torch.float32)\n"
     ]
    },
    {
     "name": "stdout",
     "output_type": "stream",
     "text": [
      "Episode 0: -3062.0743147810813\n",
      "Episode 1000: -1546.1360588000016\n",
      "Episode 2000: -1280.9269983880204\n",
      "Episode 3000: -261.2626920383501\n",
      "Episode 4000: -702.6193145167921\n",
      "Episode 5000: -264.2352688392609\n",
      "Episode 6000: -2192.52303203021\n",
      "Episode 7000: -1488.2672518260194\n",
      "Episode 8000: -658.8605424368673\n",
      "Episode 9000: -178.11738923680957\n"
     ]
    }
   ],
   "source": [
    "agent = PolicyGradientAgentWithBaseline(input_size, 128, output_size, 0.001)\n",
    "\n",
    "# train the agent\n",
    "total_reward = []\n",
    "average_reward = []\n",
    "action_arr = []\n",
    "for episode in range(10000):\n",
    "    env.reset()\n",
    "    state = np.array(env.state)\n",
    "    done = False\n",
    "    rewards = []\n",
    "    log_probs = []\n",
    "    observations = []\n",
    "    while not done:\n",
    "        action = agent.get_action(state)\n",
    "        action_arr.append(action)\n",
    "        next_state, reward, done = env.step(action)\n",
    "        rewards.append(reward)\n",
    "        log_probs.append(torch.log(agent.policy_net(torch.from_numpy(state).float().unsqueeze(0))[0][action]))\n",
    "        state = np.array(next_state)\n",
    "        observations.append(state)\n",
    "    agent.update_policy(rewards, log_probs,observations)\n",
    "    total_reward.append(sum(rewards))\n",
    "    \n",
    "    if episode < 100:\n",
    "        avg_list = total_reward[:episode+1]\n",
    "    else:\n",
    "        avg_list = total_reward[episode-99:episode+1]\n",
    "    average_reward.append(np.average(avg_list))\n",
    "    if episode % 1000 == 0:\n",
    "        print(\"Episode {}: {}\".format(episode, sum(rewards)))"
   ]
  },
  {
   "cell_type": "code",
   "execution_count": 24,
   "id": "e1c4d815-392b-4ffa-ae6d-d73019cd44d1",
   "metadata": {},
   "outputs": [],
   "source": [
    "import matplotlib.pyplot as plt"
   ]
  },
  {
   "cell_type": "code",
   "execution_count": 25,
   "id": "a78c25b7-3dde-4631-a3e3-d7fa8f67ba95",
   "metadata": {},
   "outputs": [
    {
     "data": {
      "text/plain": [
       "<matplotlib.legend.Legend at 0x1b36ac092b0>"
      ]
     },
     "execution_count": 25,
     "metadata": {},
     "output_type": "execute_result"
    },
    {
     "data": {
      "image/png": "[encoded data removed]",
      "text/plain": [
       "<Figure size 640x480 with 1 Axes>"
      ]
     },
     "metadata": {},
     "output_type": "display_data"
    }
   ],
   "source": [
    "plt.plot(total_reward,label = 'Episode cumulative reward')\n",
    "plt.plot(average_reward,label = 'Average cumulative reward')\n",
    "plt.legend()"
   ]
  },
  {
   "cell_type": "code",
   "execution_count": null,
   "id": "785df2ab-7875-4972-a225-648d69a8ad6a",
   "metadata": {},
   "outputs": [],
   "source": []
  }
 ],
 "metadata": {
  "kernelspec": {
   "display_name": "Python 3 (ipykernel)",
   "language": "python",
   "name": "python3"
  },
  "language_info": {
   "codemirror_mode": {
    "name": "ipython",
    "version": 3
   },
   "file_extension": ".py",
   "mimetype": "text/x-python",
   "name": "python",
   "nbconvert_exporter": "python",
   "pygments_lexer": "ipython3",
   "version": "3.9.13"
  }
 },
 "nbformat": 4,
 "nbformat_minor": 5
}
