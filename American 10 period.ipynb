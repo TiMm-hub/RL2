{
 "cells": [
  {
   "cell_type": "code",
   "execution_count": 19,
   "id": "26249061-faab-4d15-b17a-ee11f0c134b1",
   "metadata": {},
   "outputs": [],
   "source": [
    "import torch\n",
    "import torch.nn as nn\n",
    "import torch.optim as optim\n",
    "import numpy as np\n",
    "import math\n",
    "\n",
    "# define the neural network\n",
    "class PolicyNet(nn.Module):\n",
    "    def __init__(self, input_size, hidden_size, output_size):\n",
    "        super(PolicyNet, self).__init__()\n",
    "        self.fc1 = nn.Linear(input_size, hidden_size)\n",
    "        self.relu = nn.ReLU()\n",
    "        self.fc2 = nn.Linear(hidden_size, output_size)\n",
    "        self.softmax = nn.Softmax(dim=1)\n",
    "    \n",
    "    def forward(self, x):\n",
    "        x = self.fc1(x)\n",
    "        x = self.relu(x)\n",
    "        x = self.fc2(x)\n",
    "        x = self.softmax(x)\n",
    "        return x\n",
    "\n",
    "# define the policy gradient agent\n",
    "class PolicyGradientAgent:\n",
    "    def __init__(self, input_size, hidden_size, output_size, learning_rate):\n",
    "        self.policy_net = PolicyNet(input_size, hidden_size, output_size)\n",
    "        self.optimizer = optim.Adam(self.policy_net.parameters(), lr=learning_rate)\n",
    "    \n",
    "    def get_action(self, state):\n",
    "        state = torch.from_numpy(state).float().unsqueeze(0)\n",
    "        probs = self.policy_net(state)\n",
    "        action_probs = torch.distributions.Categorical(probs)\n",
    "        action = action_probs.sample()\n",
    "        return action.item()\n",
    "    \n",
    "    def update_policy(self, rewards, log_probs):\n",
    "        returns = []\n",
    "        discount_factor = 0.99\n",
    "        for i in range(len(rewards)):\n",
    "            Gt = 0\n",
    "            pw = 0\n",
    "            for r in rewards[i:]:\n",
    "                Gt = Gt + discount_factor**pw * r\n",
    "                pw = pw + 1\n",
    "            returns.append(Gt)\n",
    "        returns = torch.tensor(returns)\n",
    "        returns = (returns - returns.mean()) / (returns.std() + 1e-9)\n",
    "        policy_loss = []\n",
    "        for log_prob, Gt in zip(log_probs, returns):\n",
    "            policy_loss.append(-log_prob * Gt)\n",
    "        self.optimizer.zero_grad()\n",
    "        policy_loss = torch.stack(policy_loss).sum()\n",
    "        policy_loss.backward()\n",
    "        self.optimizer.step()\n",
    "    \n",
    "    def print_prob(self,state):\n",
    "        state = torch.from_numpy(state).float().unsqueeze(0)\n",
    "        probs = self.policy_net(state)\n",
    "        action_probs = torch.distributions.Categorical(probs)\n",
    "        action = action_probs.sample()\n",
    "        print(action.item())"
   ]
  },
  {
   "cell_type": "code",
   "execution_count": 20,
   "id": "28d3768a-0d12-4c28-9e95-96a17082fd14",
   "metadata": {},
   "outputs": [],
   "source": [
    "def Payoff(price):\n",
    "    return max(K-price,0)"
   ]
  },
  {
   "cell_type": "code",
   "execution_count": 21,
   "id": "2be16811-05c0-4cb5-bce7-be5a36c70cbc",
   "metadata": {},
   "outputs": [],
   "source": [
    "u = 1.1\n",
    "d = 1/u\n",
    "p = 0.5\n",
    "q = 1-p\n",
    "N =  10\n",
    "K = 100 \n",
    "S0 = 100\n",
    "r = 0.03\n",
    "dt = 1/252\n",
    "\n",
    "stock_price = np.zeros((N + 1, N + 1))\n",
    "stock_price[0, 0] = S0\n",
    "\n",
    "for i in range(1, N + 1):\n",
    "    stock_price[i, 0] = stock_price[i-1, 0] * u\n",
    "    for j in range(1, i + 1):\n",
    "        stock_price[i, j] = stock_price[i-1, j-1] * d\n",
    "        \n",
    "states = []\n",
    "Payoff_terminal = []\n",
    "for i in range(len(stock_price)):\n",
    "    for j in range(len(stock_price[0])):\n",
    "        if stock_price[i][j] !=0:\n",
    "            states.append([j,i])\n",
    "        if i == N:\n",
    "            Payoff_terminal.append(Payoff(stock_price[i][j]))\n",
    "states = np.array(states)\n",
    "        \n",
    "Optimal_val = np.zeros(len(states))\n",
    "Optimal_val[-(N+1):] = Payoff_terminal \n",
    "Optimal = {}\n",
    "for i in range(len(states)):\n",
    "    Optimal[str(states[i].tolist())] = Optimal_val[i]"
   ]
  },
  {
   "cell_type": "code",
   "execution_count": 22,
   "id": "cc43bbac-92e1-4d1b-ad6d-081e96f5af9a",
   "metadata": {},
   "outputs": [
    {
     "data": {
      "text/plain": [
       "{'[0, 0]': 10.21295267455009,\n",
       " '[0, 1]': 6.2096148350309965,\n",
       " '[1, 1]': 14.218722314215023,\n",
       " '[0, 2]': 3.19605257938478,\n",
       " '[1, 2]': 9.224655658408077,\n",
       " '[2, 2]': 19.216174581617288,\n",
       " '[0, 3]': 1.2517527860535425,\n",
       " '[1, 3]': 5.141113382913198,\n",
       " '[2, 3]': 13.310394411228398,\n",
       " '[3, 3]': 25.126530304017354,\n",
       " '[0, 4]': 0.2839218576772182,\n",
       " '[1, 4]': 2.219881768548463,\n",
       " '[2, 4]': 8.063569144757388,\n",
       " '[3, 4]': 18.560389007872754,\n",
       " '[4, 4]': 31.698654463492943,\n",
       " '[0, 5]': 0,\n",
       " '[1, 5]': 0.5679113198207361,\n",
       " '[2, 5]': 3.8723807920165747,\n",
       " '[3, 5]': 12.25667750919776,\n",
       " '[4, 5]': 24.86851990984222,\n",
       " '[5, 5]': 37.907867694084494,\n",
       " '[0, 6]': 0,\n",
       " '[1, 6]': 0,\n",
       " '[2, 6]': 1.135957864671331,\n",
       " '[3, 6]': 6.609725769671347,\n",
       " '[4, 6]': 17.906547678986623,\n",
       " '[5, 6]': 31.69865446349293,\n",
       " '[6, 6]': 43.552606994622266,\n",
       " '[0, 7]': 0,\n",
       " '[1, 7]': 0,\n",
       " '[2, 7]': 0,\n",
       " '[3, 7]': 2.272186211600732,\n",
       " '[4, 7]': 10.948839165651805,\n",
       " '[5, 7]': 24.868519909842206,\n",
       " '[6, 7]': 37.90786769408448,\n",
       " '[7, 7]': 48.68418817692933,\n",
       " '[0, 8]': 0,\n",
       " '[1, 8]': 0,\n",
       " '[2, 8]': 0,\n",
       " '[3, 8]': 0,\n",
       " '[4, 8]': 4.544913452121976,\n",
       " '[5, 8]': 17.355371900826427,\n",
       " '[6, 8]': 31.698654463492915,\n",
       " '[7, 8]': 43.55260699462226,\n",
       " '[8, 8]': 53.349261979026664,\n",
       " '[0, 9]': 0,\n",
       " '[1, 9]': 0,\n",
       " '[2, 9]': 0,\n",
       " '[3, 9]': 0,\n",
       " '[4, 9]': 0,\n",
       " '[5, 9]': 9.09090909090905,\n",
       " '[6, 9]': 24.868519909842206,\n",
       " '[7, 9]': 37.90786769408447,\n",
       " '[8, 9]': 48.684188176929325,\n",
       " '[9, 9]': 57.59023816275151,\n",
       " '[0, 10]': 0.0,\n",
       " '[1, 10]': 0.0,\n",
       " '[2, 10]': 0.0,\n",
       " '[3, 10]': 0.0,\n",
       " '[4, 10]': 0.0,\n",
       " '[5, 10]': 0.0,\n",
       " '[6, 10]': 17.355371900826412,\n",
       " '[7, 10]': 31.698654463492915,\n",
       " '[8, 10]': 43.55260699462225,\n",
       " '[9, 10]': 53.34926197902666,\n",
       " '[10, 10]': 61.44567105704683}"
      ]
     },
     "execution_count": 22,
     "metadata": {},
     "output_type": "execute_result"
    }
   ],
   "source": [
    "for i, s in enumerate(np.flip(states)):\n",
    "    if s[0]<N:      \n",
    "        Optimal[str([s[1],s[0]])] = max(Payoff(stock_price[s[0]][s[1]]),(p*Optimal[str([s[1],s[0]+1])]+q*Optimal[str([s[1]+1,s[0]+1])])\\\n",
    "                                                    *np.exp(-dt*r))\n",
    "Optimal"
   ]
  },
  {
   "cell_type": "code",
   "execution_count": 23,
   "id": "d2c58b1b-8463-4ee0-9468-0854a0cf2860",
   "metadata": {},
   "outputs": [],
   "source": [
    "class American_easy:\n",
    "    def __init__(self):\n",
    "        self.reset()\n",
    "\n",
    "    def reset(self):\n",
    "        #self.state = 0\n",
    "        self.state = [100,0,0.0,5,0]\n",
    "\n",
    "    def step(self,action):\n",
    "        price = self.state[0]\n",
    "        t = self.state[1]\n",
    "        delta = self.state[2]\n",
    "        cash = self.state[3]\n",
    "        out_bound = self.state[4]\n",
    "        price_new = price*u if np.random.rand() < p else price*d\n",
    "        num_of_d = int(-round(math.log((price_new / S0),u)) /2 +(t+1)/2)\n",
    "        pay_off = Optimal[str([num_of_d,t+1])] \n",
    "        #print(num_of_d,pay_off,price_new)\n",
    "        action_new = -1+action/100 # from categorical action to real action\n",
    "        delta_new = delta + action_new \n",
    "        if delta_new>1:\n",
    "            delta_new = 1\n",
    "            out_bound = 1\n",
    "        elif delta_new<-1:\n",
    "            delta_new = -1\n",
    "            out_bound = 1\n",
    "        cash -= (delta_new-delta)*price\n",
    "        cash *= np.exp(dt*r)\n",
    "        reward = (pay_off-delta_new*price_new-cash)**2\n",
    "        self.state = [price_new,t+1,delta_new,cash,out_bound]\n",
    "        if t+1<N:\n",
    "            return self.state,-reward,False,\n",
    "        else:\n",
    "            return self.state,-reward,True"
   ]
  },
  {
   "cell_type": "code",
   "execution_count": 24,
   "id": "59ee5833-2208-4aff-8f82-60f09ff4159e",
   "metadata": {},
   "outputs": [],
   "source": [
    "env = American_easy()\n",
    "input_size = np.shape(env.state)[0]\n",
    "output_size = 200"
   ]
  },
  {
   "cell_type": "code",
   "execution_count": 25,
   "id": "4d6e519d-ae67-4a86-bc8c-4686e8de338b",
   "metadata": {},
   "outputs": [
    {
     "name": "stdout",
     "output_type": "stream",
     "text": [
      "Episode 0: -2394.040554097308\n",
      "Episode 1000: -115.26261004482566\n",
      "Episode 2000: -7317.439240194839\n",
      "Episode 3000: -1085.3090883337243\n",
      "Episode 4000: -598.1446192660587\n",
      "Episode 5000: -862.2244056584954\n",
      "Episode 6000: -560.8762063679651\n",
      "Episode 7000: -447.6866453518742\n",
      "Episode 8000: -5858.228289312467\n",
      "Episode 9000: -728.1225581811735\n"
     ]
    }
   ],
   "source": [
    "agent = PolicyGradientAgent(input_size, 128, output_size, 0.001)\n",
    "\n",
    "# train the agent\n",
    "total_reward = []\n",
    "average_reward = []\n",
    "action_arr = []\n",
    "for episode in range(10000):\n",
    "    env.reset()\n",
    "    state = np.array(env.state)\n",
    "    done = False\n",
    "    rewards = []\n",
    "    log_probs = []\n",
    "    while not done:\n",
    "        action = agent.get_action(state)\n",
    "        action_arr.append(action)\n",
    "        next_state, reward, done = env.step(action)\n",
    "        rewards.append(reward)\n",
    "        log_probs.append(torch.log(agent.policy_net(torch.from_numpy(state).float().unsqueeze(0))[0][action]))\n",
    "        state = np.array(next_state)\n",
    "    agent.update_policy(rewards, log_probs)\n",
    "    total_reward.append(sum(rewards))\n",
    "    \n",
    "    if episode < 100:\n",
    "        avg_list = total_reward[:episode+1]\n",
    "    else:\n",
    "        avg_list = total_reward[episode-99:episode+1]\n",
    "    average_reward.append(np.average(avg_list))\n",
    "    if episode % 1000 == 0:\n",
    "        print(\"Episode {}: {}\".format(episode, sum(rewards)))"
   ]
  },
  {
   "cell_type": "code",
   "execution_count": 26,
   "id": "e1c4d815-392b-4ffa-ae6d-d73019cd44d1",
   "metadata": {},
   "outputs": [
    {
     "data": {
      "text/plain": [
       "[<matplotlib.lines.Line2D at 0x22522baed60>]"
      ]
     },
     "execution_count": 26,
     "metadata": {},
     "output_type": "execute_result"
    },
    {
     "data": {
      "image/png": "[encoded data removed]",
      "text/plain": [
       "<Figure size 640x480 with 1 Axes>"
      ]
     },
     "metadata": {},
     "output_type": "display_data"
    }
   ],
   "source": [
    "plt.plot(action_arr,label = 'action')"
   ]
  },
  {
   "cell_type": "code",
   "execution_count": 27,
   "id": "a78c25b7-3dde-4631-a3e3-d7fa8f67ba95",
   "metadata": {},
   "outputs": [
    {
     "data": {
      "text/plain": [
       "<matplotlib.legend.Legend at 0x22523081220>"
      ]
     },
     "execution_count": 27,
     "metadata": {},
     "output_type": "execute_result"
    },
    {
     "data": {
      "image/png": "[encoded data removed]",
      "text/plain": [
       "<Figure size 640x480 with 1 Axes>"
      ]
     },
     "metadata": {},
     "output_type": "display_data"
    }
   ],
   "source": [
    "import matplotlib.pyplot as plt\n",
    "plt.plot(total_reward,label = 'Episode cumulative reward')\n",
    "plt.plot(average_reward,label = 'Average cumulative reward')\n",
    "plt.legend()"
   ]
  },
  {
   "cell_type": "code",
   "execution_count": 28,
   "id": "daaf9038-05c9-4410-a95f-deea2a393705",
   "metadata": {},
   "outputs": [
    {
     "name": "stdout",
     "output_type": "stream",
     "text": [
      "82\n",
      "82\n"
     ]
    }
   ],
   "source": [
    "env.reset()\n",
    "state = np.array(env.state)\n",
    "action = agent.get_action(state)\n",
    "next_state, reward, done = env.step(action)\n",
    "print(action)\n",
    "state = np.array(next_state)\n",
    "action = agent.get_action(state)\n",
    "next_state, reward, done = env.step(action)\n",
    "print(action)"
   ]
  },
  {
   "cell_type": "code",
   "execution_count": null,
   "id": "785df2ab-7875-4972-a225-648d69a8ad6a",
   "metadata": {},
   "outputs": [],
   "source": []
  }
 ],
 "metadata": {
  "kernelspec": {
   "display_name": "Python 3 (ipykernel)",
   "language": "python",
   "name": "python3"
  },
  "language_info": {
   "codemirror_mode": {
    "name": "ipython",
    "version": 3
   },
   "file_extension": ".py",
   "mimetype": "text/x-python",
   "name": "python",
   "nbconvert_exporter": "python",
   "pygments_lexer": "ipython3",
   "version": "3.9.13"
  }
 },
 "nbformat": 4,
 "nbformat_minor": 5
}
